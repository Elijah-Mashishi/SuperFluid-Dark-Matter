{
 "cells": [
  {
   "cell_type": "markdown",
   "id": "beed0723-a94b-461a-af3f-9423b0818bb0",
   "metadata": {},
   "source": [
    "# Superfluid Dark Matter"
   ]
  },
  {
   "cell_type": "markdown",
   "id": "ac19105a-7c03-4a67-979e-e315c833bf99",
   "metadata": {},
   "source": [
    "## Importing necessary packages"
   ]
  },
  {
   "cell_type": "code",
   "execution_count": 1,
   "id": "8f3749fe-c8e9-472d-9bab-9c353675037b",
   "metadata": {},
   "outputs": [],
   "source": [
    "from lmfit import Model\n",
    "import numpy as np\n",
    "from scipy.integrate import dblquad,simpson\n",
    "dbl_vec = np.vectorize(dblquad)\n",
    "from astropy import units,constants\n",
    "from matplotlib import pyplot as plt"
   ]
  },
  {
   "cell_type": "markdown",
   "id": "b75d4056-7318-47b8-a750-c2bba73846ef",
   "metadata": {},
   "source": [
    "## "
   ]
  }
 ],
 "metadata": {
  "kernelspec": {
   "display_name": "Python 3 (ipykernel)",
   "language": "python",
   "name": "python3"
  },
  "language_info": {
   "codemirror_mode": {
    "name": "ipython",
    "version": 3
   },
   "file_extension": ".py",
   "mimetype": "text/x-python",
   "name": "python",
   "nbconvert_exporter": "python",
   "pygments_lexer": "ipython3",
   "version": "3.10.12"
  }
 },
 "nbformat": 4,
 "nbformat_minor": 5
}
