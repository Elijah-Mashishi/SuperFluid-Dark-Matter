{
 "cells": [
  {
   "cell_type": "code",
   "execution_count": 1,
   "metadata": {},
   "outputs": [],
   "source": [
    "from lmfit import Model\n",
    "import numpy as np\n",
    "from scipy.integrate import dblquad,simpson\n",
    "dbl_vec = np.vectorize(dblquad)\n",
    "from astropy import units,constants\n",
    "from matplotlib import pyplot as plt"
   ]
  },
  {
   "cell_type": "code",
   "execution_count": 3,
   "metadata": {},
   "outputs": [],
   "source": [
    "data = np.loadtxt(\"/home/elijah-k2/Masters/Code/Rotation-Curves-master/Rotmass/Rotmass/NGC0247_rotmass.dat\",unpack=True)"
   ]
  },
  {
   "cell_type": "code",
   "execution_count": 4,
   "metadata": {},
   "outputs": [],
   "source": [
    "def disk_density(z,rbar,rho0,rd):\n",
    "    zstar = 0.196*rd**0.633\n",
    "    return rho0*np.exp(-rbar/rd)*(1-np.tanh(z/zstar)**2)\n",
    "\n",
    "def surface_disk(rbar,rho0,rd):\n",
    "    zstar = 0.196*rd**0.633\n",
    "    return 2*rho0*np.exp(-rbar/rd)*zstar\n",
    "\n",
    "def mass_disk(rmax,rho0,rd):\n",
    "    integrand = lambda z,r: disk_density(z,r,rho0,rd)*2*np.pi*r\n",
    "    z_set = np.linspace(np.zeros_like(rmax),rmax,num=51,axis=-1)\n",
    "    r_h_set = np.sqrt(np.tensordot(rmax,np.ones(51),axes=0)**2 - z_set**2)\n",
    "    r_set = np.linspace(np.zeros_like(r_h_set),r_h_set,num=51,axis=-1)\n",
    "    z_mat = np.tensordot(z_set,np.ones(51),axes=0)\n",
    "    return simpson(y=simpson(y=integrand(z_mat,r_set),x=r_set,axis=-1),x=z_set,axis=-1)\n"
   ]
  },
  {
   "cell_type": "code",
   "execution_count": 5,
   "metadata": {},
   "outputs": [
    {
     "name": "stdout",
     "output_type": "stream",
     "text": [
      "[[Model]]\n",
      "    Model(surface_disk)\n",
      "[[Fit Statistics]]\n",
      "    # fitting method   = Nelder-Mead\n",
      "    # function evals   = 269\n",
      "    # data points      = 26\n",
      "    # variables        = 2\n",
      "    chi-square         = 3.3085e+13\n",
      "    reduced chi-square = 1.3786e+12\n",
      "    Akaike info crit   = 728.672501\n",
      "    Bayesian info crit = 731.188694\n",
      "    R-squared          = 0.99560660\n",
      "[[Variables]]\n",
      "    rho0:  93970545.3 +/- 2674692.52 (2.85%) (init = 0)\n",
      "    rd:    3.67280105 +/- 0.07279010 (1.98%) (init = 0)\n",
      "[[Correlations]] (unreported correlations are < 0.100)\n",
      "    C(rho0, rd) = -0.9432\n",
      "[1.10892090e+08 2.42242687e+08 4.04231371e+08 5.87365185e+08\n",
      " 7.69846765e+08 9.66643359e+08 1.15907030e+09 1.34729774e+09\n",
      " 1.52558661e+09 1.69898444e+09 1.86293776e+09 2.01403042e+09\n",
      " 2.15765867e+09 2.29083175e+09 2.41588173e+09 2.52456003e+09\n",
      " 2.62979725e+09 2.72385697e+09 2.80771618e+09 2.88502605e+09\n",
      " 2.95461966e+09 3.01698203e+09 3.07161187e+09 3.12358259e+09\n",
      " 3.16603215e+09 3.20321688e+09]\n"
     ]
    },
    {
     "name": "stderr",
     "output_type": "stream",
     "text": [
      "/tmp/ipykernel_35130/1064802366.py:7: RuntimeWarning: divide by zero encountered in divide\n",
      "  return 2*rho0*np.exp(-rbar/rd)*zstar\n"
     ]
    }
   ],
   "source": [
    "surface_model = Model(surface_disk,[\"rbar\"],[\"rho0\",\"rd\"])\n",
    "surface_model.set_param_hint(\"rho0\",min=0.0,max=1e11)\n",
    "surface_model.set_param_hint(\"rd\",min=0.0,max=1e2)\n",
    "result = surface_model.fit(data[7]*1e6,rbar=data[0],nan_policy='omit',method='nelder')\n",
    "print(result.fit_report())\n",
    "\n",
    "print(mass_disk(data[0],result.params['rho0'],result.params['rd']))"
   ]
  },
  {
   "cell_type": "code",
   "execution_count": 6,
   "metadata": {},
   "outputs": [
    {
     "name": "stdout",
     "output_type": "stream",
     "text": [
      "[106.23195774 129.14949479 146.78698372 161.15993844 172.43726064\n",
      " 182.5351935  191.01060805 198.33343692 204.59228823 210.17322725\n",
      " 215.06989803 219.30399805 223.11343795 226.47920972 229.50859801\n",
      " 232.04727245 234.42860823 236.49726215 238.29687314 239.92056606\n",
      " 241.35452098 242.61811469 243.70903332 244.73342667 245.56070576\n",
      " 246.27857312]\n"
     ]
    },
    {
     "name": "stderr",
     "output_type": "stream",
     "text": [
      "/tmp/ipykernel_35130/2773291402.py:4: RuntimeWarning: invalid value encountered in sqrt\n",
      "  return np.sqrt(np.sqrt(a0*ab)*rbar*units.kpc.to('km'))\n"
     ]
    },
    {
     "name": "stdout",
     "output_type": "stream",
     "text": [
      "Parameters([('rho0', <Parameter 'rho0', value=<Parameter 'rho0', value=93970545.34827642 +/- 2.67e+06, bounds=[0.0:100000000000.0]> (fixed), bounds=[-inf:inf]>), ('rd', <Parameter 'rd', value=<Parameter 'rd', value=3.672801049772395 +/- 0.0728, bounds=[0.0:100.0]> (fixed), bounds=[-inf:inf]>), ('Q', <Parameter 'Q', value=0.2836781371555297 +/- 0.013, bounds=[0.0:100.0]>)])\n"
     ]
    },
    {
     "data": {
      "image/png": "[encoded data removed]",
      "text/plain": [
       "<Figure size 640x480 with 1 Axes>"
      ]
     },
     "metadata": {},
     "output_type": "display_data"
    }
   ],
   "source": [
    "def v_disk(rbar,rho0,rd,Q):\n",
    "    a0 = (1.9e-43*units.GeV/constants.hbar*constants.c).to('km/s^2').value\n",
    "    ab = Q*mass_disk(rbar,rho0,rd)/rbar**2*constants.G.to('kpc^3/(Msun*s^2)').value*units.Unit('kpc/s^2').to('km/s^2')\n",
    "    return np.sqrt(np.sqrt(a0*ab)*rbar*units.kpc.to('km'))\n",
    "\n",
    "v_model = Model(v_disk,[\"rbar\"],[\"rho0\",\"rd\",\"Q\"])\n",
    "v_model.set_param_hint(\"rho0\",value=result.params['rho0'],vary=False)\n",
    "v_model.set_param_hint(\"Q\",min=0.0,max=1e2)\n",
    "v_model.set_param_hint(\"rd\",value=result.params['rd'],vary=False)\n",
    "\n",
    "print(v_disk(data[0],result.params['rho0'],result.params['rd'],1e2))\n",
    "\n",
    "v_fit = v_model.fit(data[4],rbar=data[0],method='nelder',nan_policy='omit')\n",
    "print(v_fit.params)\n",
    "plt.plot(data[0],data[4],linestyle=\"none\",marker=\"o\")\n",
    "plt.plot(v_disk(data[0],result.params['rho0'],result.params['rd'],v_fit.params['Q']))\n",
    "plt.show()"
   ]
  },
  {
   "cell_type": "code",
   "execution_count": null,
   "metadata": {},
   "outputs": [],
   "source": []
  }
 ],
 "metadata": {
  "kernelspec": {
   "display_name": "Python 3 (ipykernel)",
   "language": "python",
   "name": "python3"
  },
  "language_info": {
   "codemirror_mode": {
    "name": "ipython",
    "version": 3
   },
   "file_extension": ".py",
   "mimetype": "text/x-python",
   "name": "python",
   "nbconvert_exporter": "python",
   "pygments_lexer": "ipython3",
   "version": "3.10.12"
  }
 },
 "nbformat": 4,
 "nbformat_minor": 4
}
