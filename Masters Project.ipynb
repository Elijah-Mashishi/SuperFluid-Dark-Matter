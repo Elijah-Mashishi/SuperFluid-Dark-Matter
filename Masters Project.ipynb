{
 "cells": [
  {
   "cell_type": "markdown",
   "id": "c7bdd07a-88d7-4a63-abca-573780e4b985",
   "metadata": {},
   "source": [
    "# SuperFluid Dark Matter"
   ]
  },
  {
   "cell_type": "markdown",
   "id": "75cbece2-92c5-4e4b-a94f-f32b703ef903",
   "metadata": {},
   "source": [
    "## Imports"
   ]
  },
  {
   "cell_type": "code",
   "execution_count": 1,
   "id": "a189655d-0f63-4274-af84-fa55e628d31b",
   "metadata": {},
   "outputs": [],
   "source": [
    "%load_ext autoreload\n",
    "%autoreload 2\n",
    "import numpy as np\n",
    "from matplotlib import pyplot as plt\n",
    "import pandas as pd\n",
    "import traceback\n",
    "import seaborn as sns\n",
    "from scipy.integrate import quad\n",
    "from scipy.optimize import curve_fit\n",
    "from scipy.misc import derivative\n",
    "from astropy import units as u\n",
    "from astropy import constants as c\n",
    "from sympy import *\n",
    "from My_Galaxy_2 import Galaxy\n"
   ]
  },
  {
   "cell_type": "code",
   "execution_count": 2,
   "id": "6492098a-8272-4c86-a810-3b1431a681dd",
   "metadata": {},
   "outputs": [
    {
     "data": {
      "text/plain": [
       "6.6743e-11"
      ]
     },
     "execution_count": 2,
     "metadata": {},
     "output_type": "execute_result"
    }
   ],
   "source": [
    "G=c.G.value\n",
    "G"
   ]
  },
  {
   "cell_type": "code",
   "execution_count": 3,
   "id": "3f03e176-7985-4cdd-8dac-085607de1ded",
   "metadata": {},
   "outputs": [],
   "source": [
    "#self.sopt[0]"
   ]
  },
  {
   "cell_type": "markdown",
   "id": "b6f1e000-6e0b-49dc-b940-620b00b59dcc",
   "metadata": {},
   "source": [
    "## Code"
   ]
  },
  {
   "cell_type": "code",
   "execution_count": 4,
   "id": "48962cc4-8ec5-474d-881e-9b643f1f4535",
   "metadata": {},
   "outputs": [
    {
     "name": "stdout",
     "output_type": "stream",
     "text": [
      "    Rad  Vobs  errV  Vgas  Vdisk  Vbul  SDgas  SDdisk  SDbul\n",
      "0  1.08  34.6   0.9  2.57  22.19   0.0   4.22   66.02    0.0\n",
      "1  1.61  47.0   0.8  3.73  29.64   0.0   4.20   54.33    0.0\n",
      "2  2.15  59.1   3.1  4.89  34.48   0.0   4.21   44.47    0.0\n",
      "3  2.70  64.4   1.4  6.22  38.21   0.0   4.25   37.92    0.0\n",
      "4  3.22  67.4   2.3  7.63  41.40   0.0   4.27   33.35    0.0\n",
      "Bulge Fit Parameters: [-9.95072407e-21  9.99997876e-01]\n",
      "Gas Fit Parameters: [ 3.73047479e+01 -1.65309610e+00  1.18084757e+00 -3.03506798e-01\n",
      "  3.18239286e-02  1.36470296e+00]\n",
      "Disk Fit Parameters: [93.97053996  3.67280121]\n",
      "Velocity Fit Parameters: [15.]\n",
      "Galaxy object created successfully\n",
      "Radius values: [ 1.08  1.61  2.15  2.7   3.22  3.77  4.31  4.85  5.38  5.92  6.46  6.99\n",
      "  7.53  8.07  8.62  9.14  9.69 10.23 10.76 11.3  11.84 12.38 12.91 13.48\n",
      " 14.01 14.54]\n"
     ]
    }
   ],
   "source": [
    "def read_dat(filename):\n",
    "    head = []\n",
    "    with open(filename, 'r') as f:\n",
    "        for i in range(3):\n",
    "            head.append(next(f).strip()[2:].split('\\t'))\n",
    "\n",
    "    frame = pd.read_csv(filename, sep='\\t', comment='#', names=head[1])\n",
    "\n",
    "    distance = float(head[0][0].split()[2])\n",
    "    distance_units = head[0][0].split()[3]\n",
    "\n",
    "    units = head[2]\n",
    "\n",
    "    data = {\n",
    "        'frame': frame,\n",
    "        'feature_names': head[1],\n",
    "        'feature_units': units,\n",
    "        'distance': distance,\n",
    "        'distance_units': distance_units\n",
    "    }\n",
    "\n",
    "    return data\n",
    "\n",
    "example_data = read_dat(\"/home/elijah-k2/Masters/Code/Rotation-Curves-master/Rotmass/Rotmass/NGC0247_rotmass.dat\")\n",
    "example_df = example_data[\"frame\"]\n",
    "print(example_df.head())  # Check if data is loaded correctly\n",
    "\n",
    "try:\n",
    "    IC = Galaxy(example_df)\n",
    "    print(\"Galaxy object created successfully\")\n",
    "except Exception as e:\n",
    "    print(f\"Error creating Galaxy object: {e}\")\n",
    "    traceback.print_exc()\n",
    "\n",
    "rad = IC.rad#*1e3\n",
    "print(\"Radius values:\", rad)\n"
   ]
  },
  {
   "cell_type": "code",
   "execution_count": 5,
   "id": "e6a85035-d9c0-483e-9ad4-f98e971a6cc8",
   "metadata": {},
   "outputs": [
    {
     "name": "stdout",
     "output_type": "stream",
     "text": [
      "[1663.3813901114904, 3633.640277532705, 6063.470494423413, 8810.477696525179, 11547.701449204285, 14499.65044654139, 17386.054721377783, 20209.46658227613, 22883.80065676493, 25484.77295447866, 27944.09306532507, 30210.54954927879, 32365.16301915338, 34363.21796589084, 36239.97072468588, 37871.9530464265, 39453.87128420709, 40870.207192092195, 42136.312666331025, 43308.21494047592, 44369.34100640323, 45328.07505581724, 46177.3788399322, 46997.95764370613, 47682.14304072554, 48297.200632473665]\n"
     ]
    }
   ],
   "source": [
    "mass = IC.mass_dissk\n",
    "print(mass)"
   ]
  },
  {
   "cell_type": "code",
   "execution_count": 6,
   "id": "851be08a-0e84-4bc0-85e0-8e564a57caac",
   "metadata": {},
   "outputs": [
    {
     "data": {
      "text/plain": [
       "array([0.00032062, 0.00038812, 0.00043385, 0.00046668, 0.00048924,\n",
       "       0.00050665, 0.00051888, 0.00052736, 0.00053281, 0.00053602,\n",
       "       0.00053732, 0.00053709, 0.0005356 , 0.00053311, 0.00052972,\n",
       "       0.00052588, 0.0005213 , 0.00051638, 0.00051124, 0.00050577,\n",
       "       0.00050011, 0.00049434, 0.0004886 , 0.00048239, 0.00047661,\n",
       "       0.00047085])"
      ]
     },
     "execution_count": 6,
     "metadata": {},
     "output_type": "execute_result"
    }
   ],
   "source": [
    "v = (G*(mass/rad))**0.5\n",
    "v"
   ]
  },
  {
   "cell_type": "code",
   "execution_count": 7,
   "id": "2bb42368-9668-4973-b545-5b10c4d56e50",
   "metadata": {
    "scrolled": true
   },
   "outputs": [
    {
     "data": {
      "image/png": "[encoded data removed]",
      "text/plain": [
       "<Figure size 640x480 with 1 Axes>"
      ]
     },
     "metadata": {},
     "output_type": "display_data"
    }
   ],
   "source": [
    "\n",
    "# Uncomment the following lines once you confirm the above steps work correctly\n",
    "v_inter = IC.v_inter\n",
    "vobs = IC.vobs\n",
    "vobs_err = IC.vobs_err\n",
    "\n",
    "rc = sns.lineplot(x=rad, y=v_inter, label=\"Model\")\n",
    "sns.scatterplot(x=rad, y=vobs)\n",
    "rc.set_xlabel(\"Radius\")\n",
    "rc.set_ylabel(\"Velocity\")\n",
    "rc.legend()\n",
    "plt.errorbar(x=rad, y=vobs, yerr=vobs_err, linestyle=\"none\",marker=\"o\",color=\"k\", label=\"Vobs data\")\n",
    "plt.legend()\n",
    "plt.show()\n"
   ]
  },
  {
   "cell_type": "code",
   "execution_count": null,
   "id": "0e075b8d-3735-45cf-956d-2ed451be510e",
   "metadata": {},
   "outputs": [],
   "source": []
  }
 ],
 "metadata": {
  "kernelspec": {
   "display_name": "Python 3 (ipykernel)",
   "language": "python",
   "name": "python3"
  },
  "language_info": {
   "codemirror_mode": {
    "name": "ipython",
    "version": 3
   },
   "file_extension": ".py",
   "mimetype": "text/x-python",
   "name": "python",
   "nbconvert_exporter": "python",
   "pygments_lexer": "ipython3",
   "version": "3.10.12"
  }
 },
 "nbformat": 4,
 "nbformat_minor": 5
}
