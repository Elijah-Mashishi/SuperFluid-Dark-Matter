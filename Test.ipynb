{
 "cells": [
  {
   "cell_type": "code",
   "execution_count": 1,
   "id": "895cb760-b5f3-4902-9611-16bbb7c596a5",
   "metadata": {},
   "outputs": [
    {
     "name": "stdout",
     "output_type": "stream",
     "text": [
      "    Rad   Vobs  errV  Vgas  Vdisk    Vbul  SDgas  SDdisk    SDbul\n",
      "0  0.77   35.1  3.96  2.10  21.21  133.76   3.58  342.70  2678.70\n",
      "1  1.59   77.9  3.95  3.27  41.34  176.62   3.29  329.63   948.63\n",
      "2  2.36  115.0  6.70  3.34  58.81  176.92   3.02  317.82   463.05\n",
      "3  3.13  156.0  3.16 -1.71  75.35  172.53   2.78  306.42   349.20\n",
      "4  3.95  192.0  3.14 -5.86  92.34  173.49   2.70  294.74   188.22\n",
      "Buldge Fit Parameters: [3.19305194e+03 7.20867298e-01]\n",
      "Gas Fit Parameters: [ 2.98069379e+00  7.49037095e-01 -2.63219322e-01  4.00904256e-02\n",
      "  4.30332671e-07  4.02564457e+00]\n",
      "Disk Fit Parameters: [284.92261596   8.7110039 ]\n",
      "Velocity Fit Parameters: [15.]\n",
      "Galaxy object created successfully\n",
      "Radius values: [ 0.77  1.59  2.36  3.13  3.95  4.73  5.5   6.27  7.08  7.86  8.66  9.45\n",
      " 10.24 11.02 11.79 12.47 13.34 14.11 14.59 14.98 15.75 16.52 17.1  17.88\n",
      " 18.65 19.62 20.78 22.13 23.   23.58 25.03 25.9 ]\n"
     ]
    }
   ],
   "source": [
    "%load_ext autoreload\n",
    "%autoreload 2\n",
    "import numpy as np\n",
    "from matplotlib import pyplot as plt\n",
    "import pandas as pd\n",
    "import seaborn as sns\n",
    "from scipy.integrate import quad\n",
    "from scipy.optimize import curve_fit\n",
    "from scipy.misc import derivative\n",
    "from sympy import *\n",
    "from galaxy2 import Galaxy\n",
    "\n",
    "def read_dat(filename):\n",
    "    head = []\n",
    "    with open(filename, 'r') as f:\n",
    "        for i in range(3):\n",
    "            head.append(next(f).strip()[2:].split('\\t'))\n",
    "\n",
    "    frame = pd.read_csv(filename, sep='\\t', comment='#', names=head[1])\n",
    "\n",
    "    distance = float(head[0][0].split()[2])\n",
    "    distance_units = head[0][0].split()[3]\n",
    "\n",
    "    units = head[2]\n",
    "\n",
    "    data = {\n",
    "        'frame': frame,\n",
    "        'feature_names': head[1],\n",
    "        'feature_units': units,\n",
    "        'distance': distance,\n",
    "        'distance_units': distance_units\n",
    "    }\n",
    "\n",
    "    return data\n",
    "\n",
    "example_data = read_dat(\"/home/elijah-k2/Masters/Code/Rotation-Curves-master/Rotmass/Rotmass/IC4202_rotmass.dat\")\n",
    "example_df = example_data[\"frame\"]\n",
    "print(example_df.head())  # Check if data is loaded correctly\n",
    "\n",
    "try:\n",
    "    IC = Galaxy(example_df)\n",
    "    print(\"Galaxy object created successfully\")\n",
    "except Exception as e:\n",
    "    print(f\"Error creating Galaxy object: {e}\")\n",
    "\n",
    "rad = IC.rad\n",
    "print(\"Radius values:\", rad)\n",
    "\n",
    "# Uncomment the following lines once you confirm the above steps work correctly\n",
    "# v_inter = IC.v_inter\n",
    "# vobs = IC.vobs\n",
    "\n",
    "# rc = sns.lineplot(x=rad, y=v_inter, label=\"Model\")\n",
    "# sns.scatterplot(x=rad, y=vobs, label=\"Vobs data\")\n",
    "# rc.set_xlabel(\"Radius\")\n",
    "# rc.set_ylabel(\"Velocity\")\n",
    "# rc.legend()\n",
    "# plt.show()\n"
   ]
  },
  {
   "cell_type": "code",
   "execution_count": 9,
   "id": "035b68c2-c068-40ca-8a83-46f02204afc3",
   "metadata": {},
   "outputs": [],
   "source": [
    "import numpy as np\n",
    "from scipy.integrate import quad\n",
    "from scipy.integrate import dblquad\n",
    "from scipy.optimize import curve_fit\n",
    "from scipy.misc import derivative\n",
    "from astropy import units as u\n",
    "from astropy import constants as c\n",
    "from sympy import *"
   ]
  },
  {
   "cell_type": "code",
   "execution_count": 10,
   "id": "f5f11570-c113-4bb2-91cb-a3c1d0fbb414",
   "metadata": {},
   "outputs": [],
   "source": [
    "G = c.G.value\n",
    "hbar = c.hbar.value\n",
    "c = c.c.value"
   ]
  },
  {
   "cell_type": "code",
   "execution_count": 11,
   "id": "49ec85c1-31e0-4580-8274-8c7fc48245ff",
   "metadata": {},
   "outputs": [],
   "source": [
    "\n",
    "M_pl = ((hbar * c)/(8*np.pi*G))**0.5"
   ]
  },
  {
   "cell_type": "code",
   "execution_count": 12,
   "id": "a436c218-8731-4afd-8a4f-4f0e1530aa5f",
   "metadata": {},
   "outputs": [
    {
     "data": {
      "text/plain": [
       "4.341358399139358e-09"
      ]
     },
     "execution_count": 12,
     "metadata": {},
     "output_type": "execute_result"
    }
   ],
   "source": [
    "M_pl"
   ]
  },
  {
   "cell_type": "code",
   "execution_count": null,
   "id": "f5d1f0e0-a0ca-4ad5-a35c-1d04e07d4aaf",
   "metadata": {},
   "outputs": [],
   "source": []
  },
  {
   "cell_type": "code",
   "execution_count": null,
   "id": "e57debaa-0dc7-4c53-9d87-27f8bccf257b",
   "metadata": {},
   "outputs": [],
   "source": []
  },
  {
   "cell_type": "code",
   "execution_count": 2,
   "id": "892707a0-57c2-43f1-98e5-12e1793fd419",
   "metadata": {},
   "outputs": [
    {
     "data": {
      "image/png": "[encoded data removed]",
      "text/plain": [
       "<Figure size 640x480 with 1 Axes>"
      ]
     },
     "metadata": {},
     "output_type": "display_data"
    }
   ],
   "source": [
    "# Uncomment the following lines once you confirm the above steps work correctly\n",
    "v_inter = IC.v_inter\n",
    "vobs = IC.vobs\n",
    "\n",
    "rc = sns.lineplot(x=rad, y=v_inter, label=\"Model\")\n",
    "sns.scatterplot(x=rad, y=vobs, label=\"Vobs data\")\n",
    "rc.set_xlabel(\"Radius\")\n",
    "rc.set_ylabel(\"Velocity\")\n",
    "rc.legend()\n",
    "plt.show()"
   ]
  },
  {
   "cell_type": "code",
   "execution_count": null,
   "id": "9bcc0ec4-392c-492a-9801-09a9bdf02907",
   "metadata": {},
   "outputs": [],
   "source": []
  }
 ],
 "metadata": {
  "kernelspec": {
   "display_name": "Python 3 (ipykernel)",
   "language": "python",
   "name": "python3"
  },
  "language_info": {
   "codemirror_mode": {
    "name": "ipython",
    "version": 3
   },
   "file_extension": ".py",
   "mimetype": "text/x-python",
   "name": "python",
   "nbconvert_exporter": "python",
   "pygments_lexer": "ipython3",
   "version": "3.10.12"
  }
 },
 "nbformat": 4,
 "nbformat_minor": 5
}
